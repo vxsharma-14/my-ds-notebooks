{
 "cells": [
  {
   "cell_type": "markdown",
   "id": "8b94190f-4baf-4f33-801f-69915eb3a24a",
   "metadata": {},
   "source": [
    "# Airline Customer Tweets Data for Sentiment Analysis using Twitter API"
   ]
  },
  {
   "cell_type": "markdown",
   "id": "fda8458e-fb69-44ff-89ac-da738d062d06",
   "metadata": {},
   "source": [
    "This project uses Twitter API to gather customer tweets from various airline handles operating in the USA. The tweets are then analyzed using the Google Cloud Natural Language API to understand the sentiment towards each airline. The data collection is automated to run daily for a month, with the results stored in a file named `/airline_twitter.csv`. An exploratory analysis will be conducted using a separate notebook to gain deeper insights into customer sentiments towards each airline."
   ]
  },
  {
   "cell_type": "markdown",
   "id": "8fa7e757-2fc3-4f79-840f-880acc12628c",
   "metadata": {},
   "source": [
    "## Dataset License\n",
    "\n",
    "**CC BY-NC: Creative Commons Attribution-NonCommercial 4.0 International License**\n",
    "\n",
    "This license is one of the Creative Commons licenses and allows users to share and adapt the dataset if they give credit to the copyright holder and do not use the dataset for any commercial purposes."
   ]
  },
  {
   "cell_type": "markdown",
   "id": "32c74530-440d-46b0-91a0-f5640ae4511c",
   "metadata": {},
   "source": [
    "## Comments\n",
    "\n",
    "**A Note to Users and Readers**\n",
    "\n",
    "* I'd appreciate receiving your feedbacks in comments and messages.\n",
    "* To run this notebook, you will have to request API credentials from Twitter and Google Cloud.\n",
    "* You are allowed to download and use the dataset only for non-commercial purposes and with proper attribution. (Read Twitter Developer Guidelines for more info).\n",
    "* A detailed EDA will be presented in a separate Notebook.\n",
    "\n",
    "**Comment on Sentiment Score and Magnitude Accuracy**\n",
    "* The sentiment score and magnitude was calculated by Google Cloud Natural Languaging API, that is easy to use and highly accurate. It uses machine learning models that have been trained on large amounts of data, and it can perform a wide range of natural language processing tasks, including sentiment analysis. It also offers pre-trained models that can be used out-of-the-box.\n",
    "* I have used Google's NL API because of the following reason:\n",
    "    - I didn't have the labeled data for training the model. Google NL API ML models are pre-trained on large amount of datasets.\n",
    "    - Google NL API models are highly accurate models.\n",
    "\n"
   ]
  },
  {
   "cell_type": "markdown",
   "id": "e4401c89-b084-4eda-a6e1-62c8a25dced0",
   "metadata": {},
   "source": [
    "## Table of Contents for Code Cells\n",
    "\n",
    "1. Import Libraries\n",
    "2. Configure objects to Authenticate with Twitter API\n",
    "3. Define Functions  \n",
    "A. Read Google Cloud API Project Credentials  \n",
    "B. Translate non-English Tweet Text to English  \n",
    "C. Preprocess and Clean the Tweets Texts  \n",
    "D. Obtain User Locations from the Tweets  \n",
    "E. Analyze Tweet Sentiment  \n",
    "F. Write Twitter Data and Sentiment Data to CSV File  \n",
    "G. Read Airline Twitter Handles Stored in a JSON File  \n",
    "H. Search Today's 100 Tweets for Each Airline  \n",
    "4. Call Functions for the Processing"
   ]
  },
  {
   "cell_type": "markdown",
   "id": "33d31ce0-2e88-4cbc-aa42-b9dfe24fe73f",
   "metadata": {},
   "source": [
    "## 1. Import Libraries"
   ]
  },
  {
   "cell_type": "code",
   "execution_count": 1,
   "id": "091ca26c-13cc-4177-88dc-57c11ec7eaf5",
   "metadata": {},
   "outputs": [],
   "source": [
    "# Import libraries\n",
    "import json\n",
    "import twitter_api_keys as keys\n",
    "import tweepy\n",
    "from google.cloud import translate, language_v1\n",
    "import preprocessor as p\n",
    "import os\n",
    "import csv\n",
    "import datetime\n",
    "import pandas as pd\n",
    "import re"
   ]
  },
  {
   "cell_type": "markdown",
   "id": "5eebdfc7-094a-4db6-ab22-3d2f78f1a9b7",
   "metadata": {},
   "source": [
    "## 2. Configure objects to Authenticate with Twitter API"
   ]
  },
  {
   "cell_type": "code",
   "execution_count": 2,
   "id": "5f7f3733-71b5-4626-9eab-eac48c899943",
   "metadata": {},
   "outputs": [],
   "source": [
    "# Creating and Configuring an OAuthHandler to Authenticate with Twitter\n",
    "auth = tweepy.OAuthHandler(keys.consumer_key,\n",
    "                           keys.consumer_secret)\n",
    "\n",
    "auth.set_access_token(keys.access_token,\n",
    "                      keys.access_token_secret)"
   ]
  },
  {
   "cell_type": "markdown",
   "id": "540c9bf0-5492-4230-b9d6-74b8cf9b463a",
   "metadata": {},
   "source": [
    "## 3. Define Functions"
   ]
  },
  {
   "cell_type": "markdown",
   "id": "58337b46-6730-4956-97b7-4ba5d6432f47",
   "metadata": {},
   "source": [
    "### A. Read Google Cloud API Project Credentials"
   ]
  },
  {
   "cell_type": "code",
   "execution_count": 3,
   "id": "615ea917-6c0d-4a05-9c5f-534b03462908",
   "metadata": {},
   "outputs": [],
   "source": [
    "def google_api():\n",
    "    \"\"\"This function read secured project credentials and keys for Google\n",
    "    Cloud API from json file and return the parent object to interact\n",
    "    with Google API.\n",
    "    (Read Google documentation for more info on set-up and usage of\n",
    "    Google Cloud API libraries.)\n",
    "    \"\"\"\n",
    "    os.environ['GOOGLE_APPLICATION_CREDENTIALS']='./google_cloud_api.json'\n",
    "    os.environ['PROJECT_ID'] = keys.project_id\n",
    "    project_id = os.environ.get(\"PROJECT_ID\", \"\")\n",
    "    assert project_id\n",
    "    parent = f\"projects/{project_id}\"\n",
    "\n",
    "    return parent"
   ]
  },
  {
   "cell_type": "markdown",
   "id": "fd70d7ab-afe6-4abf-94b3-e1f8614d4cdd",
   "metadata": {},
   "source": [
    "### B. Translate non-English Tweet Text to English"
   ]
  },
  {
   "cell_type": "code",
   "execution_count": 4,
   "id": "0f775a34-6c87-4eed-8735-84d884fdc72c",
   "metadata": {},
   "outputs": [],
   "source": [
    "def translate_tweet_text(client, parent, tweet, tweet_text):\n",
    "    \"\"\"If tweet language is not English, translate the tweet\n",
    "    text to English using Google Cloud Translate API library\n",
    "    and return the translated text.\n",
    "    \"\"\"\n",
    "    if 'en' in tweet.lang:\n",
    "        # return tweets as it is, if already in English language\n",
    "        return tweet_text\n",
    "\n",
    "    elif 'und' not in tweet.lang:  # translate to English first\n",
    "        # Use Google Translate API to translate tweet       \n",
    "        response = client.translate_text(\n",
    "            contents=[tweet_text],\n",
    "            target_language_code=\"en\",\n",
    "            parent=parent\n",
    "        )        \n",
    "        # return tweet translated to English language\n",
    "        return response.translations[0].translated_text"
   ]
  },
  {
   "cell_type": "markdown",
   "id": "3bcc5dd8-c461-4b43-afe0-0c38c85cb4de",
   "metadata": {},
   "source": [
    "### C. Preprocess and Clean the Tweet Texts"
   ]
  },
  {
   "cell_type": "code",
   "execution_count": 5,
   "id": "e4899e79-0449-4207-b300-1a4ea45ed312",
   "metadata": {},
   "outputs": [],
   "source": [
    "def preprocess_tweet_text(tweet_text):\n",
    "    \"\"\"Removes the URLs, hashtags, and @mentions from the tweet text\n",
    "    and returns the clean text.\"\"\"\n",
    "    \n",
    "    # Tweets cleaning and pre-processing\n",
    "    # remove URLs and Twitter reserved words, e.g. RT, FAV\n",
    "    p.set_options(p.OPT.URL, p.OPT.RESERVED)\n",
    "    p.clean(tweet_text)\n",
    "    tweet_text = re.sub(r\"http\\S+\", '', tweet_text)\n",
    "    tweet_text = re.sub(r'#\\w+', '', tweet_text)\n",
    "    tweet_text = re.sub(r'@\\w+', '', tweet_text)\n",
    "\n",
    "    return tweet_text"
   ]
  },
  {
   "cell_type": "markdown",
   "id": "a74960ab-e9b7-46d7-98d6-d892ad1f7411",
   "metadata": {},
   "source": [
    "### D. Obtain User Locations from the Tweets"
   ]
  },
  {
   "cell_type": "code",
   "execution_count": 6,
   "id": "5b88d5a5-4088-4d29-981f-7934de6d9891",
   "metadata": {},
   "outputs": [],
   "source": [
    "def get_user_location(tweet):\n",
    "    \"\"\"Returns the location of the tweet, if available.\"\"\"\n",
    "    if tweet.place is not None:\n",
    "        return tweet.place.name\n",
    "\n",
    "    else:\n",
    "        return \"Location not available\"\n",
    "\n",
    "def get_user_timezone(tweet):\n",
    "    \"\"\"Returns the timezone of the user, if available.\"\"\"\n",
    "    if tweet.user.time_zone is not None:\n",
    "        return tweet.user.time_zone\n",
    "\n",
    "    else:\n",
    "        return \"Time zone not available\""
   ]
  },
  {
   "cell_type": "markdown",
   "id": "16cb7484-6843-4d82-bc3d-c769c5a96aea",
   "metadata": {},
   "source": [
    "### E. Analyze Tweet Sentiment"
   ]
  },
  {
   "cell_type": "code",
   "execution_count": 7,
   "id": "e9edc9b4-da94-482a-a60e-d759312a906b",
   "metadata": {},
   "outputs": [],
   "source": [
    "def analyze_sentiment(client, tweet_text):\n",
    "    \"\"\"Performs sentiment analysis on tweets using the Google\n",
    "    Cloud Natural Language API and returns a list of tuples\n",
    "    containing the sentiment score and sentiment magnitude.\n",
    "    \"\"\"\n",
    "    # print(\"Length of tweet text = \", len(tweet_text))\n",
    "\n",
    "    min_length = 20    \n",
    "\n",
    "    document = language_v1.Document(\n",
    "        content=tweet_text,\n",
    "        type=language_v1.Document.Type.PLAIN_TEXT\n",
    "    )\n",
    "\n",
    "    response = client.analyze_sentiment(request={\"document\":document})\n",
    "    sentiment = response.document_sentiment\n",
    "    score = round(sentiment.score, 3)\n",
    "    magnitude = round(sentiment.magnitude, 3)\n",
    "    results = (score, magnitude)\n",
    "    return results"
   ]
  },
  {
   "cell_type": "markdown",
   "id": "50dfa3f1-a46e-440f-aa20-66e239fdb4b8",
   "metadata": {},
   "source": [
    "### F. Write Twitter Data and Sentiment Data to CSV File"
   ]
  },
  {
   "cell_type": "code",
   "execution_count": 8,
   "id": "bd827cf0-6934-4aef-9807-d9f5126f4c88",
   "metadata": {},
   "outputs": [],
   "source": [
    "def write_to_csv(file, mode, headers, airline_name, tweet_text, sent_score, sent_magnitude):\n",
    "    \"\"\"Write the data to a csv file /airline_twitter.csv.\"\"\"\n",
    "    with open(file, mode, encoding='utf-8', newline='') as f:\n",
    "        writetweet = csv.writer(f)\n",
    "\n",
    "        if mode == 'w':\n",
    "            writetweet.writerow(headers)\n",
    "\n",
    "        # Get tweet location\n",
    "        tweet_loc = get_user_location(tweet)\n",
    "\n",
    "        # Get tweet timezone\n",
    "        tweet_tz = get_user_timezone(tweet)\n",
    "\n",
    "        # Write data to csv file\n",
    "        writetweet.writerow([airline_name,\n",
    "                             tweet_text,\n",
    "                             tweet.created_at,\n",
    "                             sent_score,\n",
    "                             sent_magnitude,\n",
    "                             tweet.user.screen_name,\n",
    "                             tweet.retweet_count,\n",
    "                             tweet.favorite_count,\n",
    "                             tweet_loc,\n",
    "                             tweet_tz\n",
    "                             ])"
   ]
  },
  {
   "cell_type": "markdown",
   "id": "94aa440e-6a31-49fe-a296-aedbc0a5fa98",
   "metadata": {},
   "source": [
    "### G. Read Airline Twitter Handles Stored in a JSON File\n",
    "\n",
    "**Note**: This function requires `us_airlines.json` file. It is attached as a separate file."
   ]
  },
  {
   "cell_type": "code",
   "execution_count": 9,
   "id": "8184e838-6acb-4548-82a1-db523390612c",
   "metadata": {},
   "outputs": [],
   "source": [
    "def read_json(json_filepath):\n",
    "    \"\"\"Reads the airline names and their corresponding Twitter handles\n",
    "    from the JSON file and returns the result as a dictionary.\n",
    "    Note: Download \"us_airlines.json\" file along with this notebook.\n",
    "    \"\"\"\n",
    "    with open(json_filepath, 'r') as json_file:\n",
    "        data = json.load(json_file)\n",
    "    return data"
   ]
  },
  {
   "cell_type": "markdown",
   "id": "e39e2c74-dc1e-42c7-af24-a00df096425b",
   "metadata": {},
   "source": [
    "### H. Search Today's 100 Tweets for Each Airline"
   ]
  },
  {
   "cell_type": "code",
   "execution_count": 10,
   "id": "6720e67e-4dc7-41bb-9c88-8ae413314770",
   "metadata": {},
   "outputs": [],
   "source": [
    "def search_tweets(api, query):\n",
    "    \"\"\"Searches for tweets matching the given query, and\n",
    "    returns the tweets only from today. Maximum 100 tweets returned.\"\"\"\n",
    "    # Today's date\n",
    "    today = datetime.datetime.now().date()\n",
    "    # Empty list\n",
    "    tweets_today = []\n",
    "    try:\n",
    "        # Twitter search query\n",
    "        tweets = api.search_tweets(q=query, tweet_mode='extended', count=100)\n",
    "        # Filter today's tweets from the query\n",
    "        for tweet in tweets:\n",
    "            tweets_today = list(filter(lambda tweet: tweet.created_at.date() == today, tweets))\n",
    "            \n",
    "    except tweepy.error.TweepError as e:\n",
    "        print(f'Error: {e}')\n",
    "\n",
    "    return tweets_today"
   ]
  },
  {
   "cell_type": "markdown",
   "id": "b782da3b-f54c-408d-8814-681b91aa8faf",
   "metadata": {},
   "source": [
    "## 4. Call Functions for the Processing"
   ]
  },
  {
   "cell_type": "code",
   "execution_count": 11,
   "id": "d1915b91-db85-4ed0-abc0-0b61925609b4",
   "metadata": {},
   "outputs": [
    {
     "name": "stdout",
     "output_type": "stream",
     "text": [
      "Run date: 2023-01-23 23:38:36.239456\n",
      "AirTran Airways\n",
      "\tSearching customer tweets...\n",
      "\tSearching customer tweets. COMPLETED\n",
      "\tNo tweets found in the past day\n",
      "Run date: 2023-01-23 23:38:36.863850\n",
      "Alaska Airlines Inc.\n",
      "\tSearching customer tweets...\n",
      "\tSearching customer tweets. COMPLETED\n",
      "\tSkipping sentiment analysis of tweet # 28 with text \"None\" because it is too short.\n",
      "\tSkipping sentiment analysis of tweet # 41 with text \"None\" because it is too short.\n",
      "\tSkipping sentiment analysis of tweet # 42 with text \"None\" because it is too short.\n",
      "\tSkipping sentiment analysis of tweet # 52 with text \"None\" because it is too short.\n",
      "\tComputing tweet sentiment metrics and writing full data to file. Completed: 91/100.\n",
      "\tProcessing and writing data to file COMPLETED. 91/100.\n",
      "Run date: 2023-01-23 23:39:32.392028\n",
      "Allegiant Air\n",
      "\tSearching customer tweets...\n",
      "\tSearching customer tweets. COMPLETED\n",
      "\tComputing tweet sentiment metrics and writing full data to file. Completed: 9/100.\r"
     ]
    },
    {
     "ename": "KeyboardInterrupt",
     "evalue": "",
     "output_type": "error",
     "traceback": [
      "\u001b[1;31m---------------------------------------------------------------------------\u001b[0m",
      "\u001b[1;31mKeyboardInterrupt\u001b[0m                         Traceback (most recent call last)",
      "Input \u001b[1;32mIn [11]\u001b[0m, in \u001b[0;36m<module>\u001b[1;34m\u001b[0m\n\u001b[0;32m     55\u001b[0m tweet_text \u001b[38;5;241m=\u001b[39m translate_tweet_text(google_translat_client, parent, tweet, tweet_text)\n\u001b[0;32m     57\u001b[0m \u001b[38;5;28;01mif\u001b[39;00m tweet_text \u001b[38;5;129;01mis\u001b[39;00m \u001b[38;5;129;01mnot\u001b[39;00m \u001b[38;5;28;01mNone\u001b[39;00m:\n\u001b[0;32m     58\u001b[0m     \u001b[38;5;66;03m# Get sentiment analysis scores using Google API\u001b[39;00m\n\u001b[1;32m---> 59\u001b[0m     score, magnitude \u001b[38;5;241m=\u001b[39m \u001b[43manalyze_sentiment\u001b[49m\u001b[43m(\u001b[49m\u001b[43mgoogle_language_client\u001b[49m\u001b[43m,\u001b[49m\u001b[43m \u001b[49m\u001b[43mtweet_text\u001b[49m\u001b[43m)\u001b[49m\n\u001b[0;32m     60\u001b[0m     \u001b[38;5;28mprint\u001b[39m(\u001b[38;5;124mf\u001b[39m\u001b[38;5;124m\"\u001b[39m\u001b[38;5;130;01m\\t\u001b[39;00m\u001b[38;5;124mComputing tweet sentiment metrics and writing full data to file. Completed: \u001b[39m\u001b[38;5;132;01m{\u001b[39;00mcount\u001b[38;5;132;01m}\u001b[39;00m\u001b[38;5;124m/100.\u001b[39m\u001b[38;5;124m\"\u001b[39m, end\u001b[38;5;241m=\u001b[39m\u001b[38;5;124m\"\u001b[39m\u001b[38;5;130;01m\\r\u001b[39;00m\u001b[38;5;124m\"\u001b[39m)\n\u001b[0;32m     62\u001b[0m \u001b[38;5;28;01melse\u001b[39;00m:\n\u001b[0;32m     63\u001b[0m     \u001b[38;5;66;03m# Skipping sentiment analysis on this tweet\u001b[39;00m\n",
      "Input \u001b[1;32mIn [7]\u001b[0m, in \u001b[0;36manalyze_sentiment\u001b[1;34m(client, tweet_text)\u001b[0m\n\u001b[0;32m      8\u001b[0m min_length \u001b[38;5;241m=\u001b[39m \u001b[38;5;241m20\u001b[39m    \n\u001b[0;32m     10\u001b[0m document \u001b[38;5;241m=\u001b[39m language_v1\u001b[38;5;241m.\u001b[39mDocument(\n\u001b[0;32m     11\u001b[0m     content\u001b[38;5;241m=\u001b[39mtweet_text,\n\u001b[0;32m     12\u001b[0m     \u001b[38;5;28mtype\u001b[39m\u001b[38;5;241m=\u001b[39mlanguage_v1\u001b[38;5;241m.\u001b[39mDocument\u001b[38;5;241m.\u001b[39mType\u001b[38;5;241m.\u001b[39mPLAIN_TEXT\n\u001b[0;32m     13\u001b[0m )\n\u001b[1;32m---> 15\u001b[0m response \u001b[38;5;241m=\u001b[39m \u001b[43mclient\u001b[49m\u001b[38;5;241;43m.\u001b[39;49m\u001b[43manalyze_sentiment\u001b[49m\u001b[43m(\u001b[49m\u001b[43mrequest\u001b[49m\u001b[38;5;241;43m=\u001b[39;49m\u001b[43m{\u001b[49m\u001b[38;5;124;43m\"\u001b[39;49m\u001b[38;5;124;43mdocument\u001b[39;49m\u001b[38;5;124;43m\"\u001b[39;49m\u001b[43m:\u001b[49m\u001b[43mdocument\u001b[49m\u001b[43m}\u001b[49m\u001b[43m)\u001b[49m\n\u001b[0;32m     16\u001b[0m sentiment \u001b[38;5;241m=\u001b[39m response\u001b[38;5;241m.\u001b[39mdocument_sentiment\n\u001b[0;32m     17\u001b[0m score \u001b[38;5;241m=\u001b[39m \u001b[38;5;28mround\u001b[39m(sentiment\u001b[38;5;241m.\u001b[39mscore, \u001b[38;5;241m3\u001b[39m)\n",
      "File \u001b[1;32m~\\AppData\\Local\\Programs\\Python\\Python310\\lib\\site-packages\\google\\cloud\\language_v1\\services\\language_service\\client.py:520\u001b[0m, in \u001b[0;36mLanguageServiceClient.analyze_sentiment\u001b[1;34m(self, request, document, encoding_type, retry, timeout, metadata)\u001b[0m\n\u001b[0;32m    517\u001b[0m rpc \u001b[38;5;241m=\u001b[39m \u001b[38;5;28mself\u001b[39m\u001b[38;5;241m.\u001b[39m_transport\u001b[38;5;241m.\u001b[39m_wrapped_methods[\u001b[38;5;28mself\u001b[39m\u001b[38;5;241m.\u001b[39m_transport\u001b[38;5;241m.\u001b[39manalyze_sentiment]\n\u001b[0;32m    519\u001b[0m \u001b[38;5;66;03m# Send the request.\u001b[39;00m\n\u001b[1;32m--> 520\u001b[0m response \u001b[38;5;241m=\u001b[39m \u001b[43mrpc\u001b[49m\u001b[43m(\u001b[49m\n\u001b[0;32m    521\u001b[0m \u001b[43m    \u001b[49m\u001b[43mrequest\u001b[49m\u001b[43m,\u001b[49m\n\u001b[0;32m    522\u001b[0m \u001b[43m    \u001b[49m\u001b[43mretry\u001b[49m\u001b[38;5;241;43m=\u001b[39;49m\u001b[43mretry\u001b[49m\u001b[43m,\u001b[49m\n\u001b[0;32m    523\u001b[0m \u001b[43m    \u001b[49m\u001b[43mtimeout\u001b[49m\u001b[38;5;241;43m=\u001b[39;49m\u001b[43mtimeout\u001b[49m\u001b[43m,\u001b[49m\n\u001b[0;32m    524\u001b[0m \u001b[43m    \u001b[49m\u001b[43mmetadata\u001b[49m\u001b[38;5;241;43m=\u001b[39;49m\u001b[43mmetadata\u001b[49m\u001b[43m,\u001b[49m\n\u001b[0;32m    525\u001b[0m \u001b[43m\u001b[49m\u001b[43m)\u001b[49m\n\u001b[0;32m    527\u001b[0m \u001b[38;5;66;03m# Done; return the response.\u001b[39;00m\n\u001b[0;32m    528\u001b[0m \u001b[38;5;28;01mreturn\u001b[39;00m response\n",
      "File \u001b[1;32m~\\AppData\\Local\\Programs\\Python\\Python310\\lib\\site-packages\\google\\api_core\\gapic_v1\\method.py:113\u001b[0m, in \u001b[0;36m_GapicCallable.__call__\u001b[1;34m(self, timeout, retry, *args, **kwargs)\u001b[0m\n\u001b[0;32m    110\u001b[0m     metadata\u001b[38;5;241m.\u001b[39mextend(\u001b[38;5;28mself\u001b[39m\u001b[38;5;241m.\u001b[39m_metadata)\n\u001b[0;32m    111\u001b[0m     kwargs[\u001b[38;5;124m\"\u001b[39m\u001b[38;5;124mmetadata\u001b[39m\u001b[38;5;124m\"\u001b[39m] \u001b[38;5;241m=\u001b[39m metadata\n\u001b[1;32m--> 113\u001b[0m \u001b[38;5;28;01mreturn\u001b[39;00m wrapped_func(\u001b[38;5;241m*\u001b[39margs, \u001b[38;5;241m*\u001b[39m\u001b[38;5;241m*\u001b[39mkwargs)\n",
      "File \u001b[1;32m~\\AppData\\Local\\Programs\\Python\\Python310\\lib\\site-packages\\google\\api_core\\retry.py:349\u001b[0m, in \u001b[0;36mRetry.__call__.<locals>.retry_wrapped_func\u001b[1;34m(*args, **kwargs)\u001b[0m\n\u001b[0;32m    345\u001b[0m target \u001b[38;5;241m=\u001b[39m functools\u001b[38;5;241m.\u001b[39mpartial(func, \u001b[38;5;241m*\u001b[39margs, \u001b[38;5;241m*\u001b[39m\u001b[38;5;241m*\u001b[39mkwargs)\n\u001b[0;32m    346\u001b[0m sleep_generator \u001b[38;5;241m=\u001b[39m exponential_sleep_generator(\n\u001b[0;32m    347\u001b[0m     \u001b[38;5;28mself\u001b[39m\u001b[38;5;241m.\u001b[39m_initial, \u001b[38;5;28mself\u001b[39m\u001b[38;5;241m.\u001b[39m_maximum, multiplier\u001b[38;5;241m=\u001b[39m\u001b[38;5;28mself\u001b[39m\u001b[38;5;241m.\u001b[39m_multiplier\n\u001b[0;32m    348\u001b[0m )\n\u001b[1;32m--> 349\u001b[0m \u001b[38;5;28;01mreturn\u001b[39;00m \u001b[43mretry_target\u001b[49m\u001b[43m(\u001b[49m\n\u001b[0;32m    350\u001b[0m \u001b[43m    \u001b[49m\u001b[43mtarget\u001b[49m\u001b[43m,\u001b[49m\n\u001b[0;32m    351\u001b[0m \u001b[43m    \u001b[49m\u001b[38;5;28;43mself\u001b[39;49m\u001b[38;5;241;43m.\u001b[39;49m\u001b[43m_predicate\u001b[49m\u001b[43m,\u001b[49m\n\u001b[0;32m    352\u001b[0m \u001b[43m    \u001b[49m\u001b[43msleep_generator\u001b[49m\u001b[43m,\u001b[49m\n\u001b[0;32m    353\u001b[0m \u001b[43m    \u001b[49m\u001b[38;5;28;43mself\u001b[39;49m\u001b[38;5;241;43m.\u001b[39;49m\u001b[43m_timeout\u001b[49m\u001b[43m,\u001b[49m\n\u001b[0;32m    354\u001b[0m \u001b[43m    \u001b[49m\u001b[43mon_error\u001b[49m\u001b[38;5;241;43m=\u001b[39;49m\u001b[43mon_error\u001b[49m\u001b[43m,\u001b[49m\n\u001b[0;32m    355\u001b[0m \u001b[43m\u001b[49m\u001b[43m)\u001b[49m\n",
      "File \u001b[1;32m~\\AppData\\Local\\Programs\\Python\\Python310\\lib\\site-packages\\google\\api_core\\retry.py:191\u001b[0m, in \u001b[0;36mretry_target\u001b[1;34m(target, predicate, sleep_generator, timeout, on_error, **kwargs)\u001b[0m\n\u001b[0;32m    189\u001b[0m \u001b[38;5;28;01mfor\u001b[39;00m sleep \u001b[38;5;129;01min\u001b[39;00m sleep_generator:\n\u001b[0;32m    190\u001b[0m     \u001b[38;5;28;01mtry\u001b[39;00m:\n\u001b[1;32m--> 191\u001b[0m         \u001b[38;5;28;01mreturn\u001b[39;00m \u001b[43mtarget\u001b[49m\u001b[43m(\u001b[49m\u001b[43m)\u001b[49m\n\u001b[0;32m    193\u001b[0m     \u001b[38;5;66;03m# pylint: disable=broad-except\u001b[39;00m\n\u001b[0;32m    194\u001b[0m     \u001b[38;5;66;03m# This function explicitly must deal with broad exceptions.\u001b[39;00m\n\u001b[0;32m    195\u001b[0m     \u001b[38;5;28;01mexcept\u001b[39;00m \u001b[38;5;167;01mException\u001b[39;00m \u001b[38;5;28;01mas\u001b[39;00m exc:\n",
      "File \u001b[1;32m~\\AppData\\Local\\Programs\\Python\\Python310\\lib\\site-packages\\google\\api_core\\timeout.py:120\u001b[0m, in \u001b[0;36mTimeToDeadlineTimeout.__call__.<locals>.func_with_timeout\u001b[1;34m(*args, **kwargs)\u001b[0m\n\u001b[0;32m    117\u001b[0m     \u001b[38;5;66;03m# Avoid setting negative timeout\u001b[39;00m\n\u001b[0;32m    118\u001b[0m     kwargs[\u001b[38;5;124m\"\u001b[39m\u001b[38;5;124mtimeout\u001b[39m\u001b[38;5;124m\"\u001b[39m] \u001b[38;5;241m=\u001b[39m \u001b[38;5;28mmax\u001b[39m(\u001b[38;5;241m0\u001b[39m, \u001b[38;5;28mself\u001b[39m\u001b[38;5;241m.\u001b[39m_timeout \u001b[38;5;241m-\u001b[39m time_since_first_attempt)\n\u001b[1;32m--> 120\u001b[0m \u001b[38;5;28;01mreturn\u001b[39;00m func(\u001b[38;5;241m*\u001b[39margs, \u001b[38;5;241m*\u001b[39m\u001b[38;5;241m*\u001b[39mkwargs)\n",
      "File \u001b[1;32m~\\AppData\\Local\\Programs\\Python\\Python310\\lib\\site-packages\\google\\api_core\\grpc_helpers.py:72\u001b[0m, in \u001b[0;36m_wrap_unary_errors.<locals>.error_remapped_callable\u001b[1;34m(*args, **kwargs)\u001b[0m\n\u001b[0;32m     69\u001b[0m \u001b[38;5;129m@functools\u001b[39m\u001b[38;5;241m.\u001b[39mwraps(callable_)\n\u001b[0;32m     70\u001b[0m \u001b[38;5;28;01mdef\u001b[39;00m \u001b[38;5;21merror_remapped_callable\u001b[39m(\u001b[38;5;241m*\u001b[39margs, \u001b[38;5;241m*\u001b[39m\u001b[38;5;241m*\u001b[39mkwargs):\n\u001b[0;32m     71\u001b[0m     \u001b[38;5;28;01mtry\u001b[39;00m:\n\u001b[1;32m---> 72\u001b[0m         \u001b[38;5;28;01mreturn\u001b[39;00m callable_(\u001b[38;5;241m*\u001b[39margs, \u001b[38;5;241m*\u001b[39m\u001b[38;5;241m*\u001b[39mkwargs)\n\u001b[0;32m     73\u001b[0m     \u001b[38;5;28;01mexcept\u001b[39;00m grpc\u001b[38;5;241m.\u001b[39mRpcError \u001b[38;5;28;01mas\u001b[39;00m exc:\n\u001b[0;32m     74\u001b[0m         \u001b[38;5;28;01mraise\u001b[39;00m exceptions\u001b[38;5;241m.\u001b[39mfrom_grpc_error(exc) \u001b[38;5;28;01mfrom\u001b[39;00m \u001b[38;5;21;01mexc\u001b[39;00m\n",
      "File \u001b[1;32m~\\AppData\\Local\\Programs\\Python\\Python310\\lib\\site-packages\\grpc\\_channel.py:944\u001b[0m, in \u001b[0;36m_UnaryUnaryMultiCallable.__call__\u001b[1;34m(self, request, timeout, metadata, credentials, wait_for_ready, compression)\u001b[0m\n\u001b[0;32m    937\u001b[0m \u001b[38;5;28;01mdef\u001b[39;00m \u001b[38;5;21m__call__\u001b[39m(\u001b[38;5;28mself\u001b[39m,\n\u001b[0;32m    938\u001b[0m              request,\n\u001b[0;32m    939\u001b[0m              timeout\u001b[38;5;241m=\u001b[39m\u001b[38;5;28;01mNone\u001b[39;00m,\n\u001b[1;32m   (...)\u001b[0m\n\u001b[0;32m    942\u001b[0m              wait_for_ready\u001b[38;5;241m=\u001b[39m\u001b[38;5;28;01mNone\u001b[39;00m,\n\u001b[0;32m    943\u001b[0m              compression\u001b[38;5;241m=\u001b[39m\u001b[38;5;28;01mNone\u001b[39;00m):\n\u001b[1;32m--> 944\u001b[0m     state, call, \u001b[38;5;241m=\u001b[39m \u001b[38;5;28;43mself\u001b[39;49m\u001b[38;5;241;43m.\u001b[39;49m\u001b[43m_blocking\u001b[49m\u001b[43m(\u001b[49m\u001b[43mrequest\u001b[49m\u001b[43m,\u001b[49m\u001b[43m \u001b[49m\u001b[43mtimeout\u001b[49m\u001b[43m,\u001b[49m\u001b[43m \u001b[49m\u001b[43mmetadata\u001b[49m\u001b[43m,\u001b[49m\u001b[43m \u001b[49m\u001b[43mcredentials\u001b[49m\u001b[43m,\u001b[49m\n\u001b[0;32m    945\u001b[0m \u001b[43m                                  \u001b[49m\u001b[43mwait_for_ready\u001b[49m\u001b[43m,\u001b[49m\u001b[43m \u001b[49m\u001b[43mcompression\u001b[49m\u001b[43m)\u001b[49m\n\u001b[0;32m    946\u001b[0m     \u001b[38;5;28;01mreturn\u001b[39;00m _end_unary_response_blocking(state, call, \u001b[38;5;28;01mFalse\u001b[39;00m, \u001b[38;5;28;01mNone\u001b[39;00m)\n",
      "File \u001b[1;32m~\\AppData\\Local\\Programs\\Python\\Python310\\lib\\site-packages\\grpc\\_channel.py:933\u001b[0m, in \u001b[0;36m_UnaryUnaryMultiCallable._blocking\u001b[1;34m(self, request, timeout, metadata, credentials, wait_for_ready, compression)\u001b[0m\n\u001b[0;32m    925\u001b[0m \u001b[38;5;28;01melse\u001b[39;00m:\n\u001b[0;32m    926\u001b[0m     call \u001b[38;5;241m=\u001b[39m \u001b[38;5;28mself\u001b[39m\u001b[38;5;241m.\u001b[39m_channel\u001b[38;5;241m.\u001b[39msegregated_call(\n\u001b[0;32m    927\u001b[0m         cygrpc\u001b[38;5;241m.\u001b[39mPropagationConstants\u001b[38;5;241m.\u001b[39mGRPC_PROPAGATE_DEFAULTS,\n\u001b[0;32m    928\u001b[0m         \u001b[38;5;28mself\u001b[39m\u001b[38;5;241m.\u001b[39m_method, \u001b[38;5;28;01mNone\u001b[39;00m, _determine_deadline(deadline), metadata,\n\u001b[1;32m   (...)\u001b[0m\n\u001b[0;32m    931\u001b[0m             \u001b[38;5;28;01mNone\u001b[39;00m,\n\u001b[0;32m    932\u001b[0m         ),), \u001b[38;5;28mself\u001b[39m\u001b[38;5;241m.\u001b[39m_context)\n\u001b[1;32m--> 933\u001b[0m     event \u001b[38;5;241m=\u001b[39m \u001b[43mcall\u001b[49m\u001b[38;5;241;43m.\u001b[39;49m\u001b[43mnext_event\u001b[49m\u001b[43m(\u001b[49m\u001b[43m)\u001b[49m\n\u001b[0;32m    934\u001b[0m     _handle_event(event, state, \u001b[38;5;28mself\u001b[39m\u001b[38;5;241m.\u001b[39m_response_deserializer)\n\u001b[0;32m    935\u001b[0m     \u001b[38;5;28;01mreturn\u001b[39;00m state, call\n",
      "File \u001b[1;32msrc\\python\\grpcio\\grpc\\_cython\\_cygrpc/channel.pyx.pxi:338\u001b[0m, in \u001b[0;36mgrpc._cython.cygrpc.SegregatedCall.next_event\u001b[1;34m()\u001b[0m\n",
      "File \u001b[1;32msrc\\python\\grpcio\\grpc\\_cython\\_cygrpc/channel.pyx.pxi:169\u001b[0m, in \u001b[0;36mgrpc._cython.cygrpc._next_call_event\u001b[1;34m()\u001b[0m\n",
      "File \u001b[1;32msrc\\python\\grpcio\\grpc\\_cython\\_cygrpc/channel.pyx.pxi:163\u001b[0m, in \u001b[0;36mgrpc._cython.cygrpc._next_call_event\u001b[1;34m()\u001b[0m\n",
      "File \u001b[1;32msrc\\python\\grpcio\\grpc\\_cython\\_cygrpc/completion_queue.pyx.pxi:78\u001b[0m, in \u001b[0;36mgrpc._cython.cygrpc._latent_event\u001b[1;34m()\u001b[0m\n",
      "File \u001b[1;32msrc\\python\\grpcio\\grpc\\_cython\\_cygrpc/completion_queue.pyx.pxi:62\u001b[0m, in \u001b[0;36mgrpc._cython.cygrpc._internal_latent_event\u001b[1;34m()\u001b[0m\n",
      "File \u001b[1;32msrc\\python\\grpcio\\grpc\\_cython\\_cygrpc/completion_queue.pyx.pxi:58\u001b[0m, in \u001b[0;36mgrpc._cython.cygrpc._interpret_event\u001b[1;34m()\u001b[0m\n",
      "File \u001b[1;32msrc\\python\\grpcio\\grpc\\_cython\\_cygrpc/tag.pyx.pxi:71\u001b[0m, in \u001b[0;36mgrpc._cython.cygrpc._BatchOperationTag.event\u001b[1;34m()\u001b[0m\n",
      "File \u001b[1;32msrc\\python\\grpcio\\grpc\\_cython\\_cygrpc/operation.pyx.pxi:138\u001b[0m, in \u001b[0;36mgrpc._cython.cygrpc.ReceiveInitialMetadataOperation.un_c\u001b[1;34m()\u001b[0m\n",
      "File \u001b[1;32msrc\\python\\grpcio\\grpc\\_cython\\_cygrpc/metadata.pyx.pxi:69\u001b[0m, in \u001b[0;36mgrpc._cython.cygrpc._metadata\u001b[1;34m()\u001b[0m\n",
      "File \u001b[1;32msrc\\python\\grpcio\\grpc\\_cython\\_cygrpc/metadata.pyx.pxi:70\u001b[0m, in \u001b[0;36mgenexpr\u001b[1;34m()\u001b[0m\n",
      "File \u001b[1;32msrc\\python\\grpcio\\grpc\\_cython\\_cygrpc/metadata.pyx.pxi:64\u001b[0m, in \u001b[0;36mgrpc._cython.cygrpc._metadatum\u001b[1;34m()\u001b[0m\n",
      "File \u001b[1;32m<string>:1\u001b[0m, in \u001b[0;36m<lambda>\u001b[1;34m(_cls, key, value)\u001b[0m\n",
      "\u001b[1;31mKeyboardInterrupt\u001b[0m: "
     ]
    }
   ],
   "source": [
    "# Create an API object\n",
    "api = tweepy.API(auth, wait_on_rate_limit=True)\n",
    "\n",
    "# Get google translate api Parent parameter\n",
    "parent = google_api()\n",
    "\n",
    "# Get all US airlines' Twitter handle from the json file.\n",
    "us_airlines = read_json('us_airlines.json')\n",
    "\n",
    "# Create service client objects for Google Translation and Language Services\n",
    "google_translat_client = translate.TranslationServiceClient()\n",
    "google_language_client = language_v1.LanguageServiceClient()\n",
    "\n",
    "# Specify csv file name and path\n",
    "filename = \"./airline_twitter1.csv\"\n",
    "# Specify CSV data header row\n",
    "headers = ['airline', 'tweet_text', 'date', 'score', 'magnitude',\n",
    "           'user', 'retweet_count', 'likes_count', 'location', 'time_zone']\n",
    "\n",
    "for key, value in us_airlines.items():\n",
    "    # Check whether Twitter handls of the airline exists.\n",
    "    # If yes, proceed, otherwise skip and move to next airline.\n",
    "    if value != None:\n",
    "        \n",
    "        # Write mode\n",
    "        mode = 'w'\n",
    "        if os.path.exists(filename):\n",
    "            # Append mode, if file exists\n",
    "            mode = 'a'\n",
    "\n",
    "        # Search today's tweets for each US airline, max count = 100\n",
    "        print(f\"Run date: {datetime.datetime.now()}\")\n",
    "        print(f\"{key}\")\n",
    "        print(\"\\tSearching customer tweets...\")\n",
    "        tweets = search_tweets(api=api, query=value)\n",
    "        print(\"\\tSearching customer tweets. COMPLETED\")       \n",
    "\n",
    "        count = 0\n",
    "        for tweet in tweets:\n",
    "            count += 1\n",
    "\n",
    "            if tweet:\n",
    "\n",
    "                if (not tweet.retweeted) and ('RT @' not in tweet.full_text):\n",
    "                    \n",
    "                    tweet_text = tweet.full_text\n",
    "\n",
    "                    # Clean tweet text\n",
    "                    if tweet_text:\n",
    "                        tweet_text = preprocess_tweet_text(tweet_text)\n",
    "                    else:\n",
    "                        tweet_text=\"\"\n",
    "\n",
    "                    # Translate tweet to English first\n",
    "                    tweet_text = translate_tweet_text(google_translat_client, parent, tweet, tweet_text)\n",
    "                    \n",
    "                    if tweet_text is not None:\n",
    "                        # Get sentiment analysis scores using Google API\n",
    "                        score, magnitude = analyze_sentiment(google_language_client, tweet_text)\n",
    "                        print(f\"\\tComputing tweet sentiment metrics and writing full data to file. Completed: {count}/100.\", end=\"\\r\")\n",
    "\n",
    "                    else:\n",
    "                        # Skipping sentiment analysis on this tweet\n",
    "                        score, magnitude = None, None\n",
    "                        print(f'\\tSkipping sentiment analysis of tweet # {count} with text \"{tweet_text}\" because it is too short.')\n",
    "\n",
    "                    # Write the tweet data to csv file.\n",
    "                    write_to_csv(filename, mode, headers, key, tweet_text, score, magnitude)\n",
    "                    \n",
    "        if count == 0:\n",
    "            print(\"\\tNo tweets found in the past day\")\n",
    "        else:\n",
    "            print(f\"\\n\\tProcessing and writing data to file COMPLETED. {count}/100.\")"
   ]
  },
  {
   "cell_type": "code",
   "execution_count": null,
   "id": "f70da84b-76de-4b1c-9f8b-281ed2261b01",
   "metadata": {},
   "outputs": [],
   "source": []
  }
 ],
 "metadata": {
  "kernelspec": {
   "display_name": "Python 3 (ipykernel)",
   "language": "python",
   "name": "python3"
  },
  "language_info": {
   "codemirror_mode": {
    "name": "ipython",
    "version": 3
   },
   "file_extension": ".py",
   "mimetype": "text/x-python",
   "name": "python",
   "nbconvert_exporter": "python",
   "pygments_lexer": "ipython3",
   "version": "3.10.1"
  },
  "toc-autonumbering": false
 },
 "nbformat": 4,
 "nbformat_minor": 5
}
